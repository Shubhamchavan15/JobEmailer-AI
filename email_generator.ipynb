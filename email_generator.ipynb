{
 "cells": [
  {
   "cell_type": "code",
   "execution_count": 1,
   "id": "7227594b-fd65-42bd-b731-1658296675bc",
   "metadata": {},
   "outputs": [],
   "source": [
    "from langchain_groq import ChatGroq"
   ]
  },
  {
   "cell_type": "code",
   "execution_count": 2,
   "id": "afd5350d-6137-4a7f-a37d-894416b7fd91",
   "metadata": {},
   "outputs": [
    {
     "name": "stdout",
     "output_type": "stream",
     "text": [
      "The first person to land on the moon was Neil Armstrong. He stepped out of the lunar module Eagle and onto the moon's surface on July 20, 1969, during the Apollo 11 mission. Armstrong famously declared, \"That's one small step for man, one giant leap for mankind,\" as he became the first human to set foot on the moon.\n"
     ]
    }
   ],
   "source": [
    "llm = ChatGroq(\n",
    "    temperature=0, \n",
    "    groq_api_key='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', \n",
    "    model_name=\"llama-3.1-70b-versatile\"\n",
    ")\n",
    "response = llm.invoke(\"The first person to land on moon was ...\")\n",
    "print(response.content)"
   ]
  },
  {
   "cell_type": "code",
   "execution_count": 3,
   "id": "51ca1702-0464-47c5-9d53-46818db5e2df",
   "metadata": {},
   "outputs": [
    {
     "name": "stderr",
     "output_type": "stream",
     "text": [
      "USER_AGENT environment variable not set, consider setting it to identify your requests.\n"
     ]
    },
    {
     "name": "stdout",
     "output_type": "stream",
     "text": [
      "Apply for Software Engineer II, ITC\n",
      "\n",
      "Search JobsSkip navigationSearch JobsNIKE, INC. JOBSContract JobsJoin The Talent CommunityLife @ NikeOverviewBenefitsBrandsOverviewJordanConverseTeamsOverviewAdministrative SupportAdvanced InnovationAir Manufacturing InnovationAviationCommunicationsCustomer ServiceDesignDigitalFacilitiesFinance & AccountingGovernment & Public AffairsHuman ResourcesInsights & AnalyticsLegalManufacturing & EngineeringMarketingMerchandisingPlanningPrivacyProcurementProduct Creation, Development & ManagementRetail CorporateRetail StoresSalesSocial & Community ImpactSports MarketingStrategic PlanningSupply Chain, Distribution & LogisticsSustainabilityTechnologyLocationsOverviewNike WHQNike New York HQEHQ: Hilversum, The NetherlandsELC: Laakdal, BelgiumGreater China HQDiversity, Equity & InclusionOverviewMilitary InclusionDisability InclusionIndigenous InclusionInternshipsTechnologySoftware Engineer II, ITCKarnataka, IndiaBecome a Part of the NIKE, Inc. TeamNIKE, Inc. does more than outfit the world’s best athletes. It is a place to explore potential, obliterate boundaries and push out the edges of what can be. The company looks for people who can grow, think, dream and create. Its culture thrives by embracing diversity and rewarding imagination. The brand seeks achievers, leaders and visionaries. At NIKE, Inc. it’s about each person bringing skills and passion to a challenging and constantly evolving game.NIKE is a technology company. From our flagship website and five-star mobile apps to developing products, managing big data and providing leading edge engineering and systems support, our teams at NIKE Global Technology exist to revolutionize the future at the confluence of tech and sport. We invest and develop advances in technology and employ the most creative people in the world, and then give them the support to constantly innovate, iterate and serve consumers more directly and personally.  Our teams are innovative, diverse, multidisciplinary and collaborative, taking technology into the future and bringing the world with it.WHO YOU’LL WORK WITHThis role is part of the Nike’s Customer Data Platform within Marketing Technology. This team works on a variety of data points across Geos from Nike’ experiences, Data Science Models, Transaction Data, Permissions etc. which are stitched together to create a rich customer overview that provides the marketers a buffet of options to choose for a marketing activity or build a insight. This team is powered by Data Engineering, Customer Data platform software service and many home-grown tools based on cutting edge technologies.WHO WE ARE LOOKING FORWe are looking for a Software engineer, to be a part of Nike’s Marketing Technology organization. This position will play a critical role, in developing Nike’s Customer Data platform, which supports and promotes our products and provides a unique user experience to all our customers in166 countries globally. We are looking for someone to have a strong Data engineering and analytical background with a focus of delivering an omnichannel consumer experience through data driven marketing.We are looking for a candidate with a strong 2-5 years of experience on working on large datasets and should demonstrate below skills:Academic background in computer science (BE or B Tech) or equivalent work2-5 years of technology related experienceHands-on experience in data engineering developing batch and streaming pipelineHands on experience on Python or Java, SQL, Data Engineering, experience with the following tools or similar: Data Bricks Airflow, EMR, Hive, SparkDemonstrated strength in data modelling, ETL development, and data streamingExperience in microservices architecture, domain driven design, and RESTful API’sKnowledge of data management fundamentals and data storage principlesExperience in customizing product solutionsFamiliarity with the challenge of moving large files across a geographically disperse network. Knowledge of different accelerated transfer methods and technologiesExperience with implementing CI/CD and leading teams with DevOps responsibilities of deploying and supporting the software in productionExperience using cloud services to build an integrated application in production (AWS - EC2, ECS, API gateway, Lambda).Experience with implementing CI/CD and DevOps responsibilities of deploying and supporting the software in productionMarketing technology experience is a plusExperience integrating with various Adobe toolset in the marketing space would be a plus– in particular Adobe Experience Platform (AEP), Journey Orchestration (JO), Customer Journey Analytics(CJA)WHAT YOU’LL WORK ONThis role will be responsible for driving, owning, and shipping all aspects of large, multi-functional efforts feature areas and will partner with engineering teams throughout feature development from architecture, design, implementation, and validation.Design, and build large datasets, and data pipelines to support building out our new Customer Data Platform (CDP) which will enable advanced segmentation in Customer data platform, that creates unique customer experience targeting, automation, and analytics.Build complex data pipelines for real time data, click stream analysis and work to achieve high-quality data ingestion goals.The technology stack that you will be working on: Data Bricks, Python, AirFlow, AWS, EMR, Databricks.Innovating, architecting, designing, and implementing highly available, scalable systems, focusing on highly visible marketing initiatives Contributing ideas for new features and identifying technical areas for improvement proactively Collaborate with upstream and downstream technical teams to develop integrations to provide a seamless flow of our marketing assets from planning to delivery.  NIKE, Inc. is a growth company that looks for team members to grow with it. Nike offers a generous total rewards package, casual work environment, a diverse and inclusive culture, and an electric atmosphere for professional development. No matter the location, or the role, every Nike employee shares one galvanizing mission: To bring inspiration and innovation to every athlete* in the world.NIKE, Inc. is committed to employing a diverse workforce. Qualified applicants will receive consideration without regard to race, color, religion, sex, national origin, age, sexual orientation, gender identity, gender expression, veteran status, or disability.How We HireAt NIKE, Inc. we promise to provide a premium, inclusive, compelling and authentic candidate experience. Delivering on this promise means we allow you to be at your best — and to do that, you need to understand how the hiring process works. Transparency is key.\n",
      "\n",
      "* This overview explains our hiring process for corporate roles. Note there may be different hiring steps involved for non-corporate roles.Start nowBenefitsWhether it’s transportation or financial health, we continually invest in our employees to help them achieve greatness — inside and outside of work. All who work here should be able to realize their full potential.Employee Assistance ProgramHolidaysMedical PlanPaid Time Off (PTO)Product DiscountsLearn moreFIND A STOREBECOME A MEMBERSIGN UP FOR EMAILSEND US FEEDBACKSTUDENT DISCOUNTSGET HELPGET HELPOrder StatusDeliveryReturnsPayment OptionsContact Us On Nike.com InquiriesContact Us On All Other InquiriesABOUT NIKEABOUT NIKENewsCareersInvestorsSustainabilityIndia© 2024 Nike, Inc. All Rights ReservedGuidesNike AdaptNike Air MaxNike FlyleatherNike PegasusNike Zoom FlyNike AirNike FlyEaseNike FreeNike ReactNike ZoomXNike Air Force 1Nike FlyknitNike JoyrideNike VaporflyTerms of SaleTerms of UseNike Privacy Policy\n"
     ]
    }
   ],
   "source": [
    "from langchain_community.document_loaders import WebBaseLoader\n",
    "\n",
    "loader = WebBaseLoader(\"https://jobs.nike.com/job/R-40715?from=job%20search%20funnel\")\n",
    "page_data = loader.load().pop().page_content\n",
    "print(page_data)"
   ]
  },
  {
   "cell_type": "code",
   "execution_count": 4,
   "id": "fa6f21e2-ef68-414c-ae87-3bc95ff98690",
   "metadata": {},
   "outputs": [
    {
     "data": {
      "text/plain": [
       "str"
      ]
     },
     "execution_count": 4,
     "metadata": {},
     "output_type": "execute_result"
    }
   ],
   "source": [
    "from langchain_core.prompts import PromptTemplate\n",
    "\n",
    "prompt_extract = PromptTemplate.from_template(\n",
    "        \"\"\"\n",
    "        ### SCRAPED TEXT FROM WEBSITE:\n",
    "        {page_data}\n",
    "        ### INSTRUCTION:\n",
    "        The scraped text is from the career's page of a website.\n",
    "        Your job is to extract the job postings and return them in JSON format containing the \n",
    "        following keys: `role`, `experience`, `skills` and `description`.\n",
    "        Only return the valid JSON.\n",
    "        ### VALID JSON (NO PREAMBLE):    \n",
    "        \"\"\"\n",
    ")\n",
    "\n",
    "chain_extract = prompt_extract | llm \n",
    "res = chain_extract.invoke(input={'page_data':page_data})\n",
    "type(res.content)"
   ]
  },
  {
   "cell_type": "code",
   "execution_count": 5,
   "id": "43060e6c-47a1-4d25-90e7-f3b6436af148",
   "metadata": {},
   "outputs": [
    {
     "data": {
      "text/plain": [
       "{'role': 'Software Engineer II, ITC',\n",
       " 'experience': '2-5 years',\n",
       " 'skills': ['Data engineering',\n",
       "  'Python',\n",
       "  'Java',\n",
       "  'SQL',\n",
       "  'Data Bricks',\n",
       "  'Airflow',\n",
       "  'EMR',\n",
       "  'Hive',\n",
       "  'Spark',\n",
       "  'Microservices architecture',\n",
       "  'Domain driven design',\n",
       "  \"RESTful API's\",\n",
       "  'Data management fundamentals',\n",
       "  'Data storage principles',\n",
       "  'CI/CD',\n",
       "  'DevOps',\n",
       "  'Cloud services',\n",
       "  'AWS',\n",
       "  'Marketing technology'],\n",
       " 'description': 'We are looking for a Software engineer, to be a part of Nike’s Marketing Technology organization. This position will play a critical role, in developing Nike’s Customer Data platform, which supports and promotes our products and provides a unique user experience to all our customers in 166 countries globally.'}"
      ]
     },
     "execution_count": 5,
     "metadata": {},
     "output_type": "execute_result"
    }
   ],
   "source": [
    "from langchain_core.output_parsers import JsonOutputParser\n",
    "\n",
    "json_parser=JsonOutputParser()\n",
    "json_res=json_parser.parse(res.content)\n",
    "json_res"
   ]
  },
  {
   "cell_type": "code",
   "execution_count": 6,
   "id": "99f33fa8-5e1b-4d01-bf10-8c49353459d8",
   "metadata": {},
   "outputs": [
    {
     "data": {
      "text/plain": [
       "dict"
      ]
     },
     "execution_count": 6,
     "metadata": {},
     "output_type": "execute_result"
    }
   ],
   "source": [
    "type(json_res)"
   ]
  },
  {
   "cell_type": "code",
   "execution_count": 7,
   "id": "fccdad1b-0bc8-4624-bb3b-611216e29443",
   "metadata": {},
   "outputs": [
    {
     "data": {
      "text/html": [
       "<div>\n",
       "<style scoped>\n",
       "    .dataframe tbody tr th:only-of-type {\n",
       "        vertical-align: middle;\n",
       "    }\n",
       "\n",
       "    .dataframe tbody tr th {\n",
       "        vertical-align: top;\n",
       "    }\n",
       "\n",
       "    .dataframe thead th {\n",
       "        text-align: right;\n",
       "    }\n",
       "</style>\n",
       "<table border=\"1\" class=\"dataframe\">\n",
       "  <thead>\n",
       "    <tr style=\"text-align: right;\">\n",
       "      <th></th>\n",
       "      <th>Techstack</th>\n",
       "      <th>Links</th>\n",
       "    </tr>\n",
       "  </thead>\n",
       "  <tbody>\n",
       "    <tr>\n",
       "      <th>0</th>\n",
       "      <td>Agile, Jenkins, Continuous Integration (CI), J...</td>\n",
       "      <td>Accenture Coding: Development &amp; Advanced Engin...</td>\n",
       "    </tr>\n",
       "    <tr>\n",
       "      <th>1</th>\n",
       "      <td>Machine Learning, ML, AI, Data Cleaning, Data ...</td>\n",
       "      <td>Coursera IBM Exploratory Data Analysis for Mac...</td>\n",
       "    </tr>\n",
       "    <tr>\n",
       "      <th>2</th>\n",
       "      <td>Machine Learning, Supervised Learning, Linear ...</td>\n",
       "      <td>Coursera IBM Supervised Machine Learning: Regr...</td>\n",
       "    </tr>\n",
       "    <tr>\n",
       "      <th>3</th>\n",
       "      <td>Data Structures, Java, Algorithms, Search Algo...</td>\n",
       "      <td>Udemy Java Data Structures &amp; Algorithms + LEET...</td>\n",
       "    </tr>\n",
       "    <tr>\n",
       "      <th>4</th>\n",
       "      <td>Chatbot, Gemini, Gen AI</td>\n",
       "      <td>Udemy  Master Course in Chatbot Technology and...</td>\n",
       "    </tr>\n",
       "    <tr>\n",
       "      <th>5</th>\n",
       "      <td>Java</td>\n",
       "      <td>Java (Basic) https://www.hackerrank.com/certif...</td>\n",
       "    </tr>\n",
       "    <tr>\n",
       "      <th>6</th>\n",
       "      <td>C++, Object-Oriented Programming (OOP)</td>\n",
       "      <td>OOPs Concepts in C++ https://verify.mygreatlea...</td>\n",
       "    </tr>\n",
       "    <tr>\n",
       "      <th>7</th>\n",
       "      <td>AWS</td>\n",
       "      <td>AWS S3 Basics https://www.coursera.org/account...</td>\n",
       "    </tr>\n",
       "    <tr>\n",
       "      <th>8</th>\n",
       "      <td>SQL Intermediate</td>\n",
       "      <td>SQL (Intermediate) https://www.hackerrank.com/...</td>\n",
       "    </tr>\n",
       "    <tr>\n",
       "      <th>9</th>\n",
       "      <td>SQL Basic</td>\n",
       "      <td>SQL Basic  https://www.hackerrank.com/certific...</td>\n",
       "    </tr>\n",
       "    <tr>\n",
       "      <th>10</th>\n",
       "      <td>Oracle, Database</td>\n",
       "      <td>Oracle Database Foundations https://www.course...</td>\n",
       "    </tr>\n",
       "    <tr>\n",
       "      <th>11</th>\n",
       "      <td>Artificial Intelligence</td>\n",
       "      <td>Introduction to Artificial Intelligence (AI) h...</td>\n",
       "    </tr>\n",
       "    <tr>\n",
       "      <th>12</th>\n",
       "      <td>Computer Networks, Networking</td>\n",
       "      <td>Computer Networking Course https://moonshot.sc...</td>\n",
       "    </tr>\n",
       "    <tr>\n",
       "      <th>13</th>\n",
       "      <td>Operating System</td>\n",
       "      <td>Operating System Course https://moonshot.scale...</td>\n",
       "    </tr>\n",
       "    <tr>\n",
       "      <th>14</th>\n",
       "      <td>Python, Machine Learning, ML</td>\n",
       "      <td>Python for Machine Learning https://www.mygrea...</td>\n",
       "    </tr>\n",
       "    <tr>\n",
       "      <th>15</th>\n",
       "      <td>Database, SQL, MySQL</td>\n",
       "      <td>Database Management System https://www.mygreat...</td>\n",
       "    </tr>\n",
       "  </tbody>\n",
       "</table>\n",
       "</div>"
      ],
      "text/plain": [
       "                                            Techstack  \\\n",
       "0   Agile, Jenkins, Continuous Integration (CI), J...   \n",
       "1   Machine Learning, ML, AI, Data Cleaning, Data ...   \n",
       "2   Machine Learning, Supervised Learning, Linear ...   \n",
       "3   Data Structures, Java, Algorithms, Search Algo...   \n",
       "4                             Chatbot, Gemini, Gen AI   \n",
       "5                                                Java   \n",
       "6              C++, Object-Oriented Programming (OOP)   \n",
       "7                                                 AWS   \n",
       "8                                    SQL Intermediate   \n",
       "9                                           SQL Basic   \n",
       "10                                   Oracle, Database   \n",
       "11                            Artificial Intelligence   \n",
       "12                      Computer Networks, Networking   \n",
       "13                                   Operating System   \n",
       "14                       Python, Machine Learning, ML   \n",
       "15                               Database, SQL, MySQL   \n",
       "\n",
       "                                                Links  \n",
       "0   Accenture Coding: Development & Advanced Engin...  \n",
       "1   Coursera IBM Exploratory Data Analysis for Mac...  \n",
       "2   Coursera IBM Supervised Machine Learning: Regr...  \n",
       "3   Udemy Java Data Structures & Algorithms + LEET...  \n",
       "4   Udemy  Master Course in Chatbot Technology and...  \n",
       "5   Java (Basic) https://www.hackerrank.com/certif...  \n",
       "6   OOPs Concepts in C++ https://verify.mygreatlea...  \n",
       "7   AWS S3 Basics https://www.coursera.org/account...  \n",
       "8   SQL (Intermediate) https://www.hackerrank.com/...  \n",
       "9   SQL Basic  https://www.hackerrank.com/certific...  \n",
       "10  Oracle Database Foundations https://www.course...  \n",
       "11  Introduction to Artificial Intelligence (AI) h...  \n",
       "12  Computer Networking Course https://moonshot.sc...  \n",
       "13  Operating System Course https://moonshot.scale...  \n",
       "14  Python for Machine Learning https://www.mygrea...  \n",
       "15  Database Management System https://www.mygreat...  "
      ]
     },
     "execution_count": 7,
     "metadata": {},
     "output_type": "execute_result"
    }
   ],
   "source": [
    "import pandas as pd\n",
    "\n",
    "df=pd.read_csv(\"My_Certificates_Links.csv\")\n",
    "df"
   ]
  },
  {
   "cell_type": "code",
   "execution_count": 8,
   "id": "695e7e21-5700-444b-9d55-374d3312ff14",
   "metadata": {},
   "outputs": [],
   "source": [
    "import uuid\n",
    "import chromadb\n",
    "\n",
    "client = chromadb.PersistentClient('vectorstore')\n",
    "collection = client.get_or_create_collection(name=\"portfolio\")\n",
    "\n",
    "if not collection.count():\n",
    "    for _, row in df.iterrows():\n",
    "        collection.add(documents=row[\"Techstack\"],\n",
    "                       metadatas={\"links\": row[\"Links\"]},\n",
    "                       ids=[str(uuid.uuid4())])"
   ]
  },
  {
   "cell_type": "code",
   "execution_count": 17,
   "id": "b1f1d0db-e869-45a6-8f77-5eacefbaa0ff",
   "metadata": {},
   "outputs": [
    {
     "data": {
      "text/plain": [
       "[[{'links': 'Coursera IBM Exploratory Data Analysis for Machine Learning https://www.coursera.org/account/accomplishments/records/627LU1OXN31D '},\n",
       "  {'links': 'Udemy Java Data Structures & Algorithms + LEETCODE Exercises https://www.udemy.com/certificate/UC-92e02df2-e456-46ca-8146-c957b9137155/ '}],\n",
       " [{'links': 'Python for Machine Learning https://www.mygreatlearning.com/certificate/RRCZUIVA '},\n",
       "  {'links': 'Introduction to Artificial Intelligence (AI) https://www.coursera.org/account/accomplishments/certificate/SAAZAE232E2P '}],\n",
       " [{'links': 'Java (Basic) https://www.hackerrank.com/certificates/1f9b59a2195e '},\n",
       "  {'links': 'Udemy Java Data Structures & Algorithms + LEETCODE Exercises https://www.udemy.com/certificate/UC-92e02df2-e456-46ca-8146-c957b9137155/ '}],\n",
       " [{'links': 'SQL Basic  https://www.hackerrank.com/certificates/569eac076500 '},\n",
       "  {'links': 'SQL (Intermediate) https://www.hackerrank.com/certificates/e8a8d9520f8c'}],\n",
       " [{'links': 'Udemy Java Data Structures & Algorithms + LEETCODE Exercises https://www.udemy.com/certificate/UC-92e02df2-e456-46ca-8146-c957b9137155/ '},\n",
       "  {'links': 'Coursera IBM Exploratory Data Analysis for Machine Learning https://www.coursera.org/account/accomplishments/records/627LU1OXN31D '}],\n",
       " [{'links': 'AWS S3 Basics https://www.coursera.org/account/accomplishments/certificate/KCQFANQQ354S'},\n",
       "  {'links': 'Computer Networking Course https://moonshot.scaler.com/s/li/y-q5OUEsiA '}],\n",
       " [{'links': 'AWS S3 Basics https://www.coursera.org/account/accomplishments/certificate/KCQFANQQ354S'},\n",
       "  {'links': 'Introduction to Artificial Intelligence (AI) https://www.coursera.org/account/accomplishments/certificate/SAAZAE232E2P '}],\n",
       " [{'links': 'AWS S3 Basics https://www.coursera.org/account/accomplishments/certificate/KCQFANQQ354S'},\n",
       "  {'links': 'Oracle Database Foundations https://www.coursera.org/account/accomplishments/certificate/FZGANW3TKQ37 '}],\n",
       " [{'links': 'AWS S3 Basics https://www.coursera.org/account/accomplishments/certificate/KCQFANQQ354S'},\n",
       "  {'links': 'Java (Basic) https://www.hackerrank.com/certificates/1f9b59a2195e '}],\n",
       " [{'links': 'Accenture Coding: Development & Advanced Engineering Job Simulation https://forage-uploads-prod.s3.amazonaws.com/completion-certificates/T6kdcdKSTfg2aotxT/XvvYRvb2YpfkyA52H_T6kdcdKSTfg2aotxT_CXwtGufku6dhL7atu_1732432831177_completion_certificate.pdf'},\n",
       "  {'links': 'Operating System Course https://moonshot.scaler.com/s/li/FWtn_eHBvc '}],\n",
       " [{'links': 'Accenture Coding: Development & Advanced Engineering Job Simulation https://forage-uploads-prod.s3.amazonaws.com/completion-certificates/T6kdcdKSTfg2aotxT/XvvYRvb2YpfkyA52H_T6kdcdKSTfg2aotxT_CXwtGufku6dhL7atu_1732432831177_completion_certificate.pdf'},\n",
       "  {'links': 'Introduction to Artificial Intelligence (AI) https://www.coursera.org/account/accomplishments/certificate/SAAZAE232E2P '}],\n",
       " [{'links': 'Accenture Coding: Development & Advanced Engineering Job Simulation https://forage-uploads-prod.s3.amazonaws.com/completion-certificates/T6kdcdKSTfg2aotxT/XvvYRvb2YpfkyA52H_T6kdcdKSTfg2aotxT_CXwtGufku6dhL7atu_1732432831177_completion_certificate.pdf'},\n",
       "  {'links': 'AWS S3 Basics https://www.coursera.org/account/accomplishments/certificate/KCQFANQQ354S'}],\n",
       " [{'links': 'Database Management System https://www.mygreatlearning.com/certificate/SSONNLHF '},\n",
       "  {'links': 'Udemy Java Data Structures & Algorithms + LEETCODE Exercises https://www.udemy.com/certificate/UC-92e02df2-e456-46ca-8146-c957b9137155/ '}],\n",
       " [{'links': 'Udemy Java Data Structures & Algorithms + LEETCODE Exercises https://www.udemy.com/certificate/UC-92e02df2-e456-46ca-8146-c957b9137155/ '},\n",
       "  {'links': 'Oracle Database Foundations https://www.coursera.org/account/accomplishments/certificate/FZGANW3TKQ37 '}],\n",
       " [{'links': 'SQL (Intermediate) https://www.hackerrank.com/certificates/e8a8d9520f8c'},\n",
       "  {'links': 'Introduction to Artificial Intelligence (AI) https://www.coursera.org/account/accomplishments/certificate/SAAZAE232E2P '}],\n",
       " [{'links': 'Accenture Coding: Development & Advanced Engineering Job Simulation https://forage-uploads-prod.s3.amazonaws.com/completion-certificates/T6kdcdKSTfg2aotxT/XvvYRvb2YpfkyA52H_T6kdcdKSTfg2aotxT_CXwtGufku6dhL7atu_1732432831177_completion_certificate.pdf'},\n",
       "  {'links': 'AWS S3 Basics https://www.coursera.org/account/accomplishments/certificate/KCQFANQQ354S'}],\n",
       " [{'links': 'AWS S3 Basics https://www.coursera.org/account/accomplishments/certificate/KCQFANQQ354S'},\n",
       "  {'links': 'Operating System Course https://moonshot.scaler.com/s/li/FWtn_eHBvc '}],\n",
       " [{'links': 'AWS S3 Basics https://www.coursera.org/account/accomplishments/certificate/KCQFANQQ354S'},\n",
       "  {'links': 'Operating System Course https://moonshot.scaler.com/s/li/FWtn_eHBvc '}],\n",
       " [{'links': 'Introduction to Artificial Intelligence (AI) https://www.coursera.org/account/accomplishments/certificate/SAAZAE232E2P '},\n",
       "  {'links': 'Computer Networking Course https://moonshot.scaler.com/s/li/y-q5OUEsiA '}]]"
      ]
     },
     "execution_count": 17,
     "metadata": {},
     "output_type": "execute_result"
    }
   ],
   "source": [
    "links = collection.query(query_texts=job['skills'], n_results=2).get('metadatas', [])\n",
    "links"
   ]
  },
  {
   "cell_type": "code",
   "execution_count": 15,
   "id": "0655a7b7-e046-4f79-8153-a01eff5e3ba6",
   "metadata": {},
   "outputs": [
    {
     "data": {
      "text/plain": [
       "['Data engineering',\n",
       " 'Python',\n",
       " 'Java',\n",
       " 'SQL',\n",
       " 'Data Bricks',\n",
       " 'Airflow',\n",
       " 'EMR',\n",
       " 'Hive',\n",
       " 'Spark',\n",
       " 'Microservices architecture',\n",
       " 'Domain driven design',\n",
       " \"RESTful API's\",\n",
       " 'Data management fundamentals',\n",
       " 'Data storage principles',\n",
       " 'CI/CD',\n",
       " 'DevOps',\n",
       " 'Cloud services',\n",
       " 'AWS',\n",
       " 'Marketing technology']"
      ]
     },
     "execution_count": 15,
     "metadata": {},
     "output_type": "execute_result"
    }
   ],
   "source": [
    "job=json_res\n",
    "job['skills']"
   ]
  },
  {
   "cell_type": "code",
   "execution_count": 19,
   "id": "8cb93839-d412-4bdf-a9bf-afda3dad31e2",
   "metadata": {},
   "outputs": [
    {
     "name": "stdout",
     "output_type": "stream",
     "text": [
      "Subject: Application for Software Engineer II, ITC at Nike\n",
      "\n",
      "Dear Hiring Manager,\n",
      "\n",
      "I am excited to apply for the Software Engineer II, ITC position at Nike, as advertised. With a strong foundation in computer engineering and a passion for developing innovative solutions, I am confident that my skills and experience make me an ideal candidate for this role.\n",
      "\n",
      "As a third-year student pursuing a B.E in Computer Engineering at Dr. D. Y. Patil Institute of Technology, I have developed a solid understanding of programming languages, including Java, Python, C#, and C++. My experience with MySQL, MS SQL Server, and MS Visual Studio has equipped me with the skills to design and develop efficient databases and software applications. Additionally, my proficiency in Next.js, HTML, CSS, and Javascript has enabled me to create dynamic web applications.\n",
      "\n",
      "My academic projects demonstrate my ability to work on complex problems and develop innovative solutions. For instance, I developed an Automated Fracture Detection System using machine learning, which achieved an accuracy of 90%+ and reduced manual work by 80%. I also created a Blog Full Stack Website using the MERN stack, which enabled 100+ users to create content seamlessly. As the Team Lead and Developer for the College Voting Portal project, I designed and developed a secure desktop application for online college voting using MS Visual Studio and MS SQL Server.\n",
      "\n",
      "As the Technical Head at Dr. D. Y. Patil Institute of Technology and a member of the R&D Club, I have gained valuable experience in leadership and project management. My achievements include securing the 1st rank in my diploma with a percentage of 91.31%, completing the Java Data Structures & Algorithms Certificate on Udemy, and participating in the Accenture NA Coding: Development & Advanced Engineering Job Simulation.\n",
      "\n",
      "To demonstrate my proficiency in the required skills, I have completed various certifications, including:\n",
      "\n",
      "* Coursera IBM Exploratory Data Analysis for Machine Learning: https://www.coursera.org/account/accomplishments/records/627LU1OXN31D\n",
      "* Udemy Java Data Structures & Algorithms + LEETCODE Exercises: https://www.udemy.com/certificate/UC-92e02df2-e456-46ca-8146-c957b9137155/\n",
      "* Python for Machine Learning: https://www.mygreatlearning.com/certificate/RRCZUIVA\n",
      "* Introduction to Artificial Intelligence (AI): https://www.coursera.org/account/accomplishments/certificate/SAAZAE232E2P\n",
      "* Java (Basic): https://www.hackerrank.com/certificates/1f9b59a2195e\n",
      "* SQL Basic: https://www.hackerrank.com/certificates/569eac076500\n",
      "* SQL (Intermediate): https://www.hackerrank.com/certificates/e8a8d9520f8c\n",
      "* AWS S3 Basics: https://www.coursera.org/account/accomplishments/certificate/KCQFANQQ354S\n",
      "* Accenture Coding: Development & Advanced Engineering Job Simulation: https://forage-uploads-prod.s3.amazonaws.com/completion-certificates/T6kdcdKSTfg2aotxT/XvvYRvb2YpfkyA52H_T6kdcdKSTfg2aotxT_CXwtGufku6dhL7atu_1732432831177_completion_certificate.pdf\n",
      "\n",
      "I am excited about the opportunity to contribute my skills and experience to Nike's Marketing Technology organization and develop the Customer Data platform. I am confident that my strong work ethic, attention to detail, and ability to work collaboratively in a team environment make me a strong candidate for this position.\n",
      "\n",
      "Thank you for considering my application. I would welcome the opportunity to discuss my qualifications further and explain in greater detail why I am the ideal candidate for this role. Please feel free to contact me at bedaresamarth@gmail.com or (+91) 8793634732.\n",
      "\n",
      "You can also find me on:\n",
      "\n",
      "* GitHub: https://github.com/samarthbedare\n",
      "* LinkedIn: https://linkedin.com/in/samarthbedare\n",
      "\n",
      "I look forward to the opportunity to discuss my application and how I can contribute to Nike's success.\n",
      "\n",
      "Best regards,\n",
      "\n",
      "Samarth Narendra Bedare\n"
     ]
    }
   ],
   "source": [
    "prompt_email = PromptTemplate.from_template(\n",
    "        \"\"\"\n",
    "        ### JOB DESCRIPTION:\n",
    "        {job_description}\n",
    "        \n",
    "        ### INSTRUCTION:\n",
    "        You are Samarth Narendra Bedare, a job applicant interested in the role mentioned above. You are applying to a company for a position \n",
    "        that aligns with your skills and experiences. Write an email expressing your interest in the job, showcasing your background \n",
    "        and how your skills can contribute to the company's goals. \n",
    "        Mention relevant experiences and achievements that make you a strong candidate for this position. \n",
    "        Additionally, include the following links to certifications that demonstrate your proficiency in the skills required for the role:\n",
    "        {link_list}\n",
    "\n",
    "        ### CANDIDATE DETAILS:\n",
    "        - **Name**: Samarth Narendra Bedare\n",
    "        - **Email**: bedaresamarth@gmail.com\n",
    "        - **Phone**: (+91) 8793634732\n",
    "        - **Skills**: Java, Python, C#, C++, MySQL, MS SQL Server, MS Visual Studio, Next.js, HTML, CSS, Javascript, MERN, Flask, Django, Web Development, Android, Desktop App Development, AI, ML, Deep Learning, Teamwork and Collaboration, Leadership and Project Management, Time Management, Good Communication.\n",
    "        - **Education**:\n",
    "            - **B.E in Computer Engineering** | Dr. D. Y. Patil Institute of Technology, Pimpri, Pune (Pursuing, Third Year, CGPA: 9.52, 2023-2026).\n",
    "            - **Diploma in Computer Engineering** | Marathwada Mitra Mandal’s Polytechnic, Pune (Final Year Percentage: 91.31%, 2020-2023).\n",
    "        - **Academic Projects**:\n",
    "            - **Automated Fracture Detection System**: Developed a machine learning model with 90%+ accuracy for automated fracture detection in X-rays, reducing manual work by 80% and improving diagnostic efficiency by 40%. Role: Developer.\n",
    "            - **Blog Full Stack Website**: Developed a blog website using the Next.js-enhanced MERN stack, enabling 100+ users for seamless content creation. Role: Developer. Link: [newspiral.vercel.app](http://newspiral.vercel.app).\n",
    "            - **College Voting Portal**: Developed a secure desktop app for online college voting. Role: Team Lead & Developer. Technologies: MS Visual Studio, MS SQL Server.\n",
    "        - **Position of Responsibility**:\n",
    "            - **Technical Head** | Dr. D. Y. Patil Institute of Technology (Aug 2024).\n",
    "            - **R&D Club Member** | Dr. D. Y. Patil Institute of Technology (Aug 2024 - Present).\n",
    "        - **Extracurricular / Achievements**:\n",
    "            - 1st rank in Diploma with 91.31%.\n",
    "            - IBM Machine Learning Professional Certificate on Coursera (In Progress).\n",
    "            - Java Data Structures & Algorithms Certificate on Udemy (Completion Date: June 2024).\n",
    "            - Accenture NA Coding: Development & Advanced Engineering Job Simulation – (Nov 2024).\n",
    "            - Published Research Paper on “College Voting Portal” (IRJMETS).\n",
    "            - 3 ongoing Copyrights and Patents.\n",
    "        - **Social Links**:\n",
    "            - **GitHub**: [github.com/samarthbedare](https://github.com/samarthbedare)\n",
    "            - **LinkedIn**: [linkedin.com/in/samarthbedare](https://linkedin.com/in/samarthbedare)\n",
    "\n",
    "        Do not provide a preamble.\n",
    "        ### EMAIL (NO PREAMBLE):\n",
    "        \n",
    "        \"\"\"\n",
    "        )\n",
    "\n",
    "chain_email = prompt_email | llm\n",
    "res = chain_email.invoke({\"job_description\": str(job), \"link_list\": links})\n",
    "print(res.content)\n"
   ]
  },
  {
   "cell_type": "code",
   "execution_count": null,
   "id": "edcd1139-f8cd-4ea3-8d50-1b40d537a4bf",
   "metadata": {},
   "outputs": [],
   "source": []
  }
 ],
 "metadata": {
  "kernelspec": {
   "display_name": "venv",
   "language": "python",
   "name": "venv"
  },
  "language_info": {
   "codemirror_mode": {
    "name": "ipython",
    "version": 3
   },
   "file_extension": ".py",
   "mimetype": "text/x-python",
   "name": "python",
   "nbconvert_exporter": "python",
   "pygments_lexer": "ipython3",
   "version": "3.10.11"
  }
 },
 "nbformat": 4,
 "nbformat_minor": 5
}

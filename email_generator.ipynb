{
 "cells": [
  {
   "cell_type": "code",
   "execution_count": 1,
   "id": "7227594b-fd65-42bd-b731-1658296675bc",
   "metadata": {},
   "outputs": [
    {
     "ename": "ModuleNotFoundError",
     "evalue": "No module named 'langchain_groq'",
     "output_type": "error",
     "traceback": [
      "\u001b[1;31m---------------------------------------------------------------------------\u001b[0m",
      "\u001b[1;31mModuleNotFoundError\u001b[0m                       Traceback (most recent call last)",
      "Cell \u001b[1;32mIn[1], line 1\u001b[0m\n\u001b[1;32m----> 1\u001b[0m \u001b[38;5;28;01mfrom\u001b[39;00m\u001b[38;5;250m \u001b[39m\u001b[38;5;21;01mlangchain_groq\u001b[39;00m\u001b[38;5;250m \u001b[39m\u001b[38;5;28;01mimport\u001b[39;00m ChatGroq\n",
      "\u001b[1;31mModuleNotFoundError\u001b[0m: No module named 'langchain_groq'"
     ]
    }
   ],
   "source": [
    "from langchain_groq import ChatGroq"
   ]
  },
  {
   "cell_type": "code",
   "execution_count": null,
   "id": "afd5350d-6137-4a7f-a37d-894416b7fd91",
   "metadata": {},
   "outputs": [
    {
     "name": "stdout",
     "output_type": "stream",
     "text": [
      "The first person to land on the moon was Neil Armstrong. He stepped out of the lunar module Eagle and onto the moon's surface on July 20, 1969, during the Apollo 11 mission. Armstrong famously declared, \"That's one small step for man, one giant leap for mankind,\" as he became the first human to set foot on the moon.\n"
     ]
    }
   ],
   "source": [
    "llm = ChatGroq(\n",
    "    temperature=0, \n",
    "    groq_api_key='#', \n",
    "    model_name=\"llama-3.1-70b-versatile\"\n",
    ")\n",
    "response = llm.invoke(\"The first person to land on moon was ...\")\n",
    "print(response.content)"
   ]
  },
  {
   "cell_type": "code",
   "execution_count": null,
   "id": "51ca1702-0464-47c5-9d53-46818db5e2df",
   "metadata": {},
   "outputs": [
    {
     "name": "stderr",
     "output_type": "stream",
     "text": [
      "USER_AGENT environment variable not set, consider setting it to identify your requests.\n"
     ]
    },
    {
     "name": "stdout",
     "output_type": "stream",
     "text": [
      "Apply for Software Engineer II, ITC\n",
      "\n",
      "Search JobsSkip navigationSearch JobsNIKE, INC. JOBSContract JobsJoin The Talent CommunityLife @ NikeOverviewBenefitsBrandsOverviewJordanConverseTeamsOverviewAdministrative SupportAdvanced InnovationAir Manufacturing InnovationAviationCommunicationsCustomer ServiceDesignDigitalFacilitiesFinance & AccountingGovernment & Public AffairsHuman ResourcesInsights & AnalyticsLegalManufacturing & EngineeringMarketingMerchandisingPlanningPrivacyProcurementProduct Creation, Development & ManagementRetail CorporateRetail StoresSalesSocial & Community ImpactSports MarketingStrategic PlanningSupply Chain, Distribution & LogisticsSustainabilityTechnologyLocationsOverviewNike WHQNike New York HQEHQ: Hilversum, The NetherlandsELC: Laakdal, BelgiumGreater China HQDiversity, Equity & InclusionOverviewMilitary InclusionDisability InclusionIndigenous InclusionInternshipsTechnologySoftware Engineer II, ITCKarnataka, IndiaBecome a Part of the NIKE, Inc. TeamNIKE, Inc. does more than outfit the world’s best athletes. It is a place to explore potential, obliterate boundaries and push out the edges of what can be. The company looks for people who can grow, think, dream and create. Its culture thrives by embracing diversity and rewarding imagination. The brand seeks achievers, leaders and visionaries. At NIKE, Inc. it’s about each person bringing skills and passion to a challenging and constantly evolving game.NIKE is a technology company. From our flagship website and five-star mobile apps to developing products, managing big data and providing leading edge engineering and systems support, our teams at NIKE Global Technology exist to revolutionize the future at the confluence of tech and sport. We invest and develop advances in technology and employ the most creative people in the world, and then give them the support to constantly innovate, iterate and serve consumers more directly and personally.  Our teams are innovative, diverse, multidisciplinary and collaborative, taking technology into the future and bringing the world with it.WHO YOU’LL WORK WITHThis role is part of the Nike’s Customer Data Platform within Marketing Technology. This team works on a variety of data points across Geos from Nike’ experiences, Data Science Models, Transaction Data, Permissions etc. which are stitched together to create a rich customer overview that provides the marketers a buffet of options to choose for a marketing activity or build a insight. This team is powered by Data Engineering, Customer Data platform software service and many home-grown tools based on cutting edge technologies.WHO WE ARE LOOKING FORWe are looking for a Software engineer, to be a part of Nike’s Marketing Technology organization. This position will play a critical role, in developing Nike’s Customer Data platform, which supports and promotes our products and provides a unique user experience to all our customers in166 countries globally. We are looking for someone to have a strong Data engineering and analytical background with a focus of delivering an omnichannel consumer experience through data driven marketing.We are looking for a candidate with a strong 2-5 years of experience on working on large datasets and should demonstrate below skills:Academic background in computer science (BE or B Tech) or equivalent work2-5 years of technology related experienceHands-on experience in data engineering developing batch and streaming pipelineHands on experience on Python or Java, SQL, Data Engineering, experience with the following tools or similar: Data Bricks Airflow, EMR, Hive, SparkDemonstrated strength in data modelling, ETL development, and data streamingExperience in microservices architecture, domain driven design, and RESTful API’sKnowledge of data management fundamentals and data storage principlesExperience in customizing product solutionsFamiliarity with the challenge of moving large files across a geographically disperse network. Knowledge of different accelerated transfer methods and technologiesExperience with implementing CI/CD and leading teams with DevOps responsibilities of deploying and supporting the software in productionExperience using cloud services to build an integrated application in production (AWS - EC2, ECS, API gateway, Lambda).Experience with implementing CI/CD and DevOps responsibilities of deploying and supporting the software in productionMarketing technology experience is a plusExperience integrating with various Adobe toolset in the marketing space would be a plus– in particular Adobe Experience Platform (AEP), Journey Orchestration (JO), Customer Journey Analytics(CJA)WHAT YOU’LL WORK ONThis role will be responsible for driving, owning, and shipping all aspects of large, multi-functional efforts feature areas and will partner with engineering teams throughout feature development from architecture, design, implementation, and validation.Design, and build large datasets, and data pipelines to support building out our new Customer Data Platform (CDP) which will enable advanced segmentation in Customer data platform, that creates unique customer experience targeting, automation, and analytics.Build complex data pipelines for real time data, click stream analysis and work to achieve high-quality data ingestion goals.The technology stack that you will be working on: Data Bricks, Python, AirFlow, AWS, EMR, Databricks.Innovating, architecting, designing, and implementing highly available, scalable systems, focusing on highly visible marketing initiatives Contributing ideas for new features and identifying technical areas for improvement proactively Collaborate with upstream and downstream technical teams to develop integrations to provide a seamless flow of our marketing assets from planning to delivery.  NIKE, Inc. is a growth company that looks for team members to grow with it. Nike offers a generous total rewards package, casual work environment, a diverse and inclusive culture, and an electric atmosphere for professional development. No matter the location, or the role, every Nike employee shares one galvanizing mission: To bring inspiration and innovation to every athlete* in the world.NIKE, Inc. is committed to employing a diverse workforce. Qualified applicants will receive consideration without regard to race, color, religion, sex, national origin, age, sexual orientation, gender identity, gender expression, veteran status, or disability.How We HireAt NIKE, Inc. we promise to provide a premium, inclusive, compelling and authentic candidate experience. Delivering on this promise means we allow you to be at your best — and to do that, you need to understand how the hiring process works. Transparency is key.\n",
      "\n",
      "* This overview explains our hiring process for corporate roles. Note there may be different hiring steps involved for non-corporate roles.Start nowBenefitsWhether it’s transportation or financial health, we continually invest in our employees to help them achieve greatness — inside and outside of work. All who work here should be able to realize their full potential.Employee Assistance ProgramHolidaysMedical PlanPaid Time Off (PTO)Product DiscountsLearn moreFIND A STOREBECOME A MEMBERSIGN UP FOR EMAILSEND US FEEDBACKSTUDENT DISCOUNTSGET HELPGET HELPOrder StatusDeliveryReturnsPayment OptionsContact Us On Nike.com InquiriesContact Us On All Other InquiriesABOUT NIKEABOUT NIKENewsCareersInvestorsSustainabilityIndia© 2024 Nike, Inc. All Rights ReservedGuidesNike AdaptNike Air MaxNike FlyleatherNike PegasusNike Zoom FlyNike AirNike FlyEaseNike FreeNike ReactNike ZoomXNike Air Force 1Nike FlyknitNike JoyrideNike VaporflyTerms of SaleTerms of UseNike Privacy Policy\n"
     ]
    }
   ],
   "source": [
    "from langchain_community.document_loaders import WebBaseLoader\n",
    "\n",
    "loader = WebBaseLoader(\"https://jobs.nike.com/job/R-40715?from=job%20search%20funnel\")\n",
    "page_data = loader.load().pop().page_content\n",
    "print(page_data)"
   ]
  },
  {
   "cell_type": "code",
   "execution_count": null,
   "id": "fa6f21e2-ef68-414c-ae87-3bc95ff98690",
   "metadata": {},
   "outputs": [
    {
     "data": {
      "text/plain": [
       "str"
      ]
     },
     "execution_count": 4,
     "metadata": {},
     "output_type": "execute_result"
    }
   ],
   "source": [
    "from langchain_core.prompts import PromptTemplate\n",
    "\n",
    "prompt_extract = PromptTemplate.from_template(\n",
    "        \"\"\"\n",
    "        ### SCRAPED TEXT FROM WEBSITE:\n",
    "        {page_data}\n",
    "        ### INSTRUCTION:\n",
    "        The scraped text is from the career's page of a website.\n",
    "        Your job is to extract the job postings and return them in JSON format containing the \n",
    "        following keys: `role`, `experience`, `skills` and `description`.\n",
    "        Only return the valid JSON.\n",
    "        ### VALID JSON (NO PREAMBLE):    \n",
    "        \"\"\"\n",
    ")\n",
    "\n",
    "chain_extract = prompt_extract | llm \n",
    "res = chain_extract.invoke(input={'page_data':page_data})\n",
    "type(res.content)"
   ]
  },
  {
   "cell_type": "code",
   "execution_count": null,
   "id": "43060e6c-47a1-4d25-90e7-f3b6436af148",
   "metadata": {},
   "outputs": [
    {
     "data": {
      "text/plain": [
       "{'role': 'Software Engineer II, ITC',\n",
       " 'experience': '2-5 years',\n",
       " 'skills': ['Data engineering',\n",
       "  'Python',\n",
       "  'Java',\n",
       "  'SQL',\n",
       "  'Data Bricks',\n",
       "  'Airflow',\n",
       "  'EMR',\n",
       "  'Hive',\n",
       "  'Spark',\n",
       "  'Microservices architecture',\n",
       "  'Domain driven design',\n",
       "  \"RESTful API's\",\n",
       "  'Data management fundamentals',\n",
       "  'Data storage principles',\n",
       "  'CI/CD',\n",
       "  'DevOps',\n",
       "  'Cloud services',\n",
       "  'AWS',\n",
       "  'Marketing technology'],\n",
       " 'description': 'We are looking for a Software engineer, to be a part of Nike’s Marketing Technology organization. This position will play a critical role, in developing Nike’s Customer Data platform, which supports and promotes our products and provides a unique user experience to all our customers in 166 countries globally.'}"
      ]
     },
     "execution_count": 5,
     "metadata": {},
     "output_type": "execute_result"
    }
   ],
   "source": [
    "from langchain_core.output_parsers import JsonOutputParser\n",
    "\n",
    "json_parser=JsonOutputParser()\n",
    "json_res=json_parser.parse(res.content)\n",
    "json_res"
   ]
  },
  {
   "cell_type": "code",
   "execution_count": null,
   "id": "99f33fa8-5e1b-4d01-bf10-8c49353459d8",
   "metadata": {},
   "outputs": [
    {
     "data": {
      "text/plain": [
       "dict"
      ]
     },
     "execution_count": 6,
     "metadata": {},
     "output_type": "execute_result"
    }
   ],
   "source": [
    "type(json_res)"
   ]
  },
  {
   "cell_type": "code",
   "execution_count": null,
   "id": "fccdad1b-0bc8-4624-bb3b-611216e29443",
   "metadata": {},
   "outputs": [
    {
     "data": {
      "text/html": [
       "<div>\n",
       "<style scoped>\n",
       "    .dataframe tbody tr th:only-of-type {\n",
       "        vertical-align: middle;\n",
       "    }\n",
       "\n",
       "    .dataframe tbody tr th {\n",
       "        vertical-align: top;\n",
       "    }\n",
       "\n",
       "    .dataframe thead th {\n",
       "        text-align: right;\n",
       "    }\n",
       "</style>\n",
       "<table border=\"1\" class=\"dataframe\">\n",
       "  <thead>\n",
       "    <tr style=\"text-align: right;\">\n",
       "      <th></th>\n",
       "      <th>Techstack</th>\n",
       "      <th>Links</th>\n",
       "    </tr>\n",
       "  </thead>\n",
       "  <tbody>\n",
       "    <tr>\n",
       "      <th>0</th>\n",
       "      <td>DBMS Certification</td>\n",
       "      <td>Scalar Operating System</td>\n",
       "    </tr>\n",
       "  </tbody>\n",
       "</table>\n",
       "</div>"
      ],
      "text/plain": [
       "                                            Techstack  \\\n",
       "0   DBMS Certification  \n",
       "1   Scalar Operating System  \n",

       "\n",
       "                                                Links  \n",
       "0   https://olympus.mygreatlearning.com/courses/64941/certificate?pb_id=581  \n",
       "1   https://moonshot.scaler.com/s/sl/ARcO02Xi5u?_gl=1*xpac2a*_gcl_au*ODEzMjkzMjAzLjE3NDQ3OTcwMzkuMjA5OTQ3ODY4Ny4xNzQ3NzQ5MjA0LjE3NDc3NDkyMDM.*FPAU*ODEzMjkzMjAzLjE3NDQ3OTcwMzkuMTEwOTkyMDI3NC4xNzQ0Nzk3MDQ0LjE3NDQ3OTcwNDQ.*_ga*MTgzMjYwOTIzOC4xNzIzMDUxMTI1*_ga_53S71ZZG1X*czE3NDc3NDkyMDMkbzckZzEkdDE3NDc3NDk0MDYkajAkbDAkaDEwMzEzMTAxODMkZG5iZjZXUVB4UlZtWmJ1SXc2aVByRGZLbjAwYjM0OWxXQ0E.  \n",
      ]
     },
     "execution_count": 7,
     "metadata": {},
     "output_type": "execute_result"
    }
   ],
   "source": [
    "import pandas as pd\n",
    "\n",
    "df=pd.read_csv(\"My_Certificates_Links.csv\")\n",
    "df"
   ]
  },
  {
   "cell_type": "code",
   "execution_count": null,
   "id": "695e7e21-5700-444b-9d55-374d3312ff14",
   "metadata": {},
   "outputs": [],
   "source": [
    "import uuid\n",
    "import chromadb\n",
    "\n",
    "client = chromadb.PersistentClient('vectorstore')\n",
    "collection = client.get_or_create_collection(name=\"portfolio\")\n",
    "\n",
    "if not collection.count():\n",
    "    for _, row in df.iterrows():\n",
    "        collection.add(documents=row[\"Techstack\"],\n",
    "                       metadatas={\"links\": row[\"Links\"]},\n",
    "                       ids=[str(uuid.uuid4())])"
   ]
  },
  {
   "cell_type": "code",
   "execution_count": null,
   "id": "b1f1d0db-e869-45a6-8f77-5eacefbaa0ff",
   "metadata": {},
   "outputs": [
    {
     "data": {
      "text/plain": [
       "[[{'links': 'DBMS Certification https://olympus.mygreatlearning.com/courses/64941/certificate?pb_id=581 '},\n",
      
       "  {'links': 'Scalar Operating System https://moonshot.scaler.com/s/sl/ARcO02Xi5u?_gl=1*xpac2a*_gcl_au*ODEzMjkzMjAzLjE3NDQ3OTcwMzkuMjA5OTQ3ODY4Ny4xNzQ3NzQ5MjA0LjE3NDc3NDkyMDM.*FPAU*ODEzMjkzMjAzLjE3NDQ3OTcwMzkuMTEwOTkyMDI3NC4xNzQ0Nzk3MDQ0LjE3NDQ3OTcwNDQ.*_ga*MTgzMjYwOTIzOC4xNzIzMDUxMTI1*_ga_53S71ZZG1X*czE3NDc3NDkyMDMkbzckZzEkdDE3NDc3NDk0MDYkajAkbDAkaDEwMzEzMTAxODMkZG5iZjZXUVB4UlZtWmJ1SXc2aVByRGZLbjAwYjM0OWxXQ0E.'}]]"
      ]
     },
     "execution_count": 17,
     "metadata": {},
     "output_type": "execute_result"
    }
   ],
   "source": [
    "links = collection.query(query_texts=job['skills'], n_results=2).get('metadatas', [])\n",
    "links"
   ]
  },
  {
   "cell_type": "code",
   "execution_count": null,
   "id": "0655a7b7-e046-4f79-8153-a01eff5e3ba6",
   "metadata": {},
   "outputs": [
    {
     "data": {
      "text/plain": [
       "['Data engineering',\n",
       " 'Python',\n",
       " 'Java',\n",
       " 'SQL',\n",
       " 'Data Bricks',\n",
       " 'Airflow',\n",
       " 'EMR',\n",
       " 'Hive',\n",
       " 'Spark',\n",
       " 'Microservices architecture',\n",
       " 'Domain driven design',\n",
       " \"RESTful API's\",\n",
       " 'Data management fundamentals',\n",
       " 'Data storage principles',\n",
       " 'CI/CD',\n",
       " 'DevOps',\n",
       " 'Cloud services',\n",
       " 'AWS',\n",
       " 'Marketing technology']"
      ]
     },
     "execution_count": 15,
     "metadata": {},
     "output_type": "execute_result"
    }
   ],
   "source": [
    "job=json_res\n",
    "job['skills']"
   ]
  },
  {
   "cell_type": "code",
   "execution_count": null,
   "id": "8cb93839-d412-4bdf-a9bf-afda3dad31e2",
   "metadata": {},
   "outputs": [
    {
     "name": "stdout",
     "output_type": "stream",
     "text": [
      "Subject: Application for Software Engineer II, ITC at Nike\n",
      "\n",
      "Dear Hiring Manager,\n",
      "\n",
      "I am excited to apply for the Software Engineer II, ITC position at Nike, as advertised. With a strong foundation in computer engineering and a passion for developing innovative solutions, I am confident that my skills and experience make me an ideal candidate for this role.\n",
      "\n",
      "As a third-year student pursuing a B.E in Computer Engineering at Dr. D. Y. Patil Institute of Technology, I have developed a solid understanding of programming languages, including Java, Python, C#, and C++. My experience with MySQL, MS SQL Server, and MS Visual Studio has equipped me with the skills to design and develop efficient databases and software applications. Additionally, my proficiency in Next.js, HTML, CSS, and Javascript has enabled me to create dynamic web applications.\n",
      "\n",
      "My academic projects demonstrate my ability to work on complex problems and develop innovative solutions. For instance, I developed an Automated Fracture Detection System using machine learning, which achieved an accuracy of 90%+ and reduced manual work by 80%. I also created a Blog Full Stack Website using the MERN stack, which enabled 100+ users to create content seamlessly. As the Team Lead and Developer for the College Voting Portal project, I designed and developed a secure desktop application for online college voting using MS Visual Studio and MS SQL Server.\n",
      "\n",
      "As the Technical Head at Dr. D. Y. Patil Institute of Technology and a member of the R&D Club, I have gained valuable experience in leadership and project management. My achievements include securing the 1st rank in my diploma with a percentage of 91.31%, completing the Java Data Structures & Algorithms Certificate on Udemy, and participating in the Accenture NA Coding: Development & Advanced Engineering Job Simulation.\n",
      "\n",
      "To demonstrate my proficiency in the required skills, I have completed various certifications, including:\n",
      "\n",
      "*DBMS Certification: https://olympus.mygreatlearning.com/courses/64941/certificate?pb_id=581\n",
      "* Scalar Operating System: https://moonshot.scaler.com/s/sl/ARcO02Xi5u?_gl=1*xpac2a*_gcl_au*ODEzMjkzMjAzLjE3NDQ3OTcwMzkuMjA5OTQ3ODY4Ny4xNzQ3NzQ5MjA0LjE3NDc3NDkyMDM.*FPAU*ODEzMjkzMjAzLjE3NDQ3OTcwMzkuMTEwOTkyMDI3NC4xNzQ0Nzk3MDQ0LjE3NDQ3OTcwNDQ.*_ga*MTgzMjYwOTIzOC4xNzIzMDUxMTI1*_ga_53S71ZZG1X*czE3NDc3NDkyMDMkbzckZzEkdDE3NDc3NDk0MDYkajAkbDAkaDEwMzEzMTAxODMkZG5iZjZXUVB4UlZtWmJ1SXc2aVByRGZLbjAwYjM0OWxXQ0E./\n",
     
      "\n",
      "I am excited about the opportunity to contribute my skills and experience to Nike's Marketing Technology organization and develop the Customer Data platform. I am confident that my strong work ethic, attention to detail, and ability to work collaboratively in a team environment make me a strong candidate for this position.\n",
      "\n",
      "Thank you for considering my application. I would welcome the opportunity to discuss my qualifications further and explain in greater detail why I am the ideal candidate for this role. Please feel free to contact me at bedaresamarth@gmail.com or (+91) 7666949354.\n",
      "\n",
      "You can also find me on:\n",
      "\n",
      "* GitHub: https://github.com/Shubhamchavan15\n",
      "* LinkedIn: https://linkedin.com/in/shubhamchavan15\n",
      "\n",
      "I look forward to the opportunity to discuss my application and how I can contribute to Nike's success.\n",
      "\n",
      "Best regards,\n",
      "\n",
      "Shubham Chavan\n"
     ]
    }
   ],
   "source": [
    "prompt_email = PromptTemplate.from_template(\n",
    "        \"\"\"\n",
    "        ### JOB DESCRIPTION:\n",
    "        {job_description}\n",
    "        \n",
    "        ### INSTRUCTION:\n",
    "        You are Shubham Satish Chavan, a job applicant interested in the role mentioned above. You are applying to a company for a position \n",
    "        that aligns with your skills and experiences. Write an email expressing your interest in the job, showcasing your background \n",
    "        and how your skills can contribute to the company's goals. \n",
    "        Mention relevant experiences and achievements that make you a strong candidate for this position. \n",
    "        Additionally, include the following links to certifications that demonstrate your proficiency in the skills required for the role:\n",
    "        {link_list}\n",
    "\n",
    "        ### CANDIDATE DETAILS:\n",
    "        - **Name**: Shubham Satish Chavan\n",
    "        - **Email**: shubhofficial1507@gmail.com@gmail.com\n",
    "        - **Phone**: (+91) 7666949354\n",
    "        - **Skills**: Java, Python, C#, C++, MySQL, MS SQL Server, MS Visual Studio, Next.js, HTML, CSS, Javascript, MERN, Flask, Django, Web Development, Android, Desktop App Development, AI, ML, Deep Learning, Teamwork and Collaboration, Leadership and Project Management, Time Management, Good Communication.\n",
    "        - **Education**:\n",
    "            - **B.E in Computer Engineering** | Dr. D. Y. Patil Institute of Technology, Pimpri, Pune (Pursuing, Third Year, CGPA: 9.52, 2023-2026).\n",
    "            - **Diploma in Computer Engineering** | Pimpri Chinchwad Polytechnic, Pune (Final Year Percentage: 91.11%, 2020-2023).\n",
    "        - **Academic Projects**:\n",
    "            - **Automated Fracture Detection System**: Developed a machine learning model with 90%+ accuracy for automated fracture detection in X-rays, reducing manual work by 80% and improving diagnostic efficiency by 40%. Role: Developer.\n",
    "            - **Blog Full Stack Website**: Developed a blog website using the Next.js-enhanced MERN stack, enabling 100+ users for seamless content creation. Role: Developer. Link: [newspiral.vercel.app](http://newspiral.vercel.app).\n",
    "        - **Position of Responsibility**:\n",
    "            - **Technical Head** | Dr. D. Y. Patil Institute of Technology (Aug 2024).\n",
    "        - **Extracurricular / Achievements**:\n",
    "            - 1st rank in Technical event \n",
    "            - IBM Machine Learning Professional Certificate on Coursera (In Progress).\n",
    "            - Published Research Paper on “ Enhancement of Model Driven Software Development using AI” (IEEE).\n",
    "            - 3 ongoing Copyrights and Patents.\n",
    "        - **Social Links**:\n",
    "            - **GitHub**: [github.com/Shubhamchavan15](https://github.com/Shubhamchavan15)\n",
    "            - **LinkedIn**: [linkedin.com/in/shubhamchavan15](https://linkedin.com/in/shubhamchavan15)\n",
    "\n",
    "        Do not provide a preamble.\n",
    "        ### EMAIL (NO PREAMBLE):\n",
    "        \n",
    "        \"\"\"\n",
    "        )\n",
    "\n",
    "chain_email = prompt_email | llm\n",
    "res = chain_email.invoke({\"job_description\": str(job), \"link_list\": links})\n",
    "print(res.content)\n"
   ]
  },
  {
   "cell_type": "code",
   "execution_count": null,
   "id": "edcd1139-f8cd-4ea3-8d50-1b40d537a4bf",
   "metadata": {},
   "outputs": [],
   "source": []
  }
 ],
 "metadata": {
  "kernelspec": {
   "display_name": "Python 3",
   "language": "python",
   "name": "python3"
  },
  "language_info": {
   "codemirror_mode": {
    "name": "ipython",
    "version": 3
   },
   "file_extension": ".py",
   "mimetype": "text/x-python",
   "name": "python",
   "nbconvert_exporter": "python",
   "pygments_lexer": "ipython3",
   "version": "3.10.11"
  }
 },
 "nbformat": 4,
 "nbformat_minor": 5
}
